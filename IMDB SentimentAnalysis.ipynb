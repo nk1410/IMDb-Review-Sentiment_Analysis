{
 "cells": [
  {
   "cell_type": "code",
   "execution_count": 1,
   "metadata": {},
   "outputs": [],
   "source": [
    "import numpy as np \n",
    "import pandas as pd \n",
    "import matplotlib.pyplot as plt\n",
    "import seaborn as sns"
   ]
  },
  {
   "cell_type": "code",
   "execution_count": 2,
   "metadata": {},
   "outputs": [
    {
     "data": {
      "text/html": [
       "<div>\n",
       "<style scoped>\n",
       "    .dataframe tbody tr th:only-of-type {\n",
       "        vertical-align: middle;\n",
       "    }\n",
       "\n",
       "    .dataframe tbody tr th {\n",
       "        vertical-align: top;\n",
       "    }\n",
       "\n",
       "    .dataframe thead th {\n",
       "        text-align: right;\n",
       "    }\n",
       "</style>\n",
       "<table border=\"1\" class=\"dataframe\">\n",
       "  <thead>\n",
       "    <tr style=\"text-align: right;\">\n",
       "      <th></th>\n",
       "      <th>review</th>\n",
       "      <th>sentiment</th>\n",
       "    </tr>\n",
       "  </thead>\n",
       "  <tbody>\n",
       "    <tr>\n",
       "      <th>0</th>\n",
       "      <td>One of the other reviewers has mentioned that ...</td>\n",
       "      <td>positive</td>\n",
       "    </tr>\n",
       "    <tr>\n",
       "      <th>1</th>\n",
       "      <td>A wonderful little production. &lt;br /&gt;&lt;br /&gt;The...</td>\n",
       "      <td>positive</td>\n",
       "    </tr>\n",
       "    <tr>\n",
       "      <th>2</th>\n",
       "      <td>I thought this was a wonderful way to spend ti...</td>\n",
       "      <td>positive</td>\n",
       "    </tr>\n",
       "    <tr>\n",
       "      <th>3</th>\n",
       "      <td>Basically there's a family where a little boy ...</td>\n",
       "      <td>negative</td>\n",
       "    </tr>\n",
       "    <tr>\n",
       "      <th>4</th>\n",
       "      <td>Petter Mattei's \"Love in the Time of Money\" is...</td>\n",
       "      <td>positive</td>\n",
       "    </tr>\n",
       "  </tbody>\n",
       "</table>\n",
       "</div>"
      ],
      "text/plain": [
       "                                              review sentiment\n",
       "0  One of the other reviewers has mentioned that ...  positive\n",
       "1  A wonderful little production. <br /><br />The...  positive\n",
       "2  I thought this was a wonderful way to spend ti...  positive\n",
       "3  Basically there's a family where a little boy ...  negative\n",
       "4  Petter Mattei's \"Love in the Time of Money\" is...  positive"
      ]
     },
     "execution_count": 2,
     "metadata": {},
     "output_type": "execute_result"
    }
   ],
   "source": [
    "review_dict = {}\n",
    "df_review = pd.read_csv(\"IMDB Dataset.csv\")\n",
    "df_review.head()"
   ]
  },
  {
   "cell_type": "code",
   "execution_count": 3,
   "metadata": {},
   "outputs": [
    {
     "data": {
      "text/plain": [
       "(50000, 2)"
      ]
     },
     "execution_count": 3,
     "metadata": {},
     "output_type": "execute_result"
    }
   ],
   "source": [
    "df_review.shape"
   ]
  },
  {
   "cell_type": "code",
   "execution_count": 4,
   "metadata": {},
   "outputs": [],
   "source": [
    "df_positive = df_review[df_review['sentiment']=='positive'][:5000]\n",
    "df_negative = df_review[df_review['sentiment']=='negative'][:5000]\n",
    "\n",
    "df = pd.concat([df_positive,df_negative ])"
   ]
  },
  {
   "cell_type": "code",
   "execution_count": 5,
   "metadata": {},
   "outputs": [
    {
     "data": {
      "text/html": [
       "<style>#sk-container-id-1 {color: black;background-color: white;}#sk-container-id-1 pre{padding: 0;}#sk-container-id-1 div.sk-toggleable {background-color: white;}#sk-container-id-1 label.sk-toggleable__label {cursor: pointer;display: block;width: 100%;margin-bottom: 0;padding: 0.3em;box-sizing: border-box;text-align: center;}#sk-container-id-1 label.sk-toggleable__label-arrow:before {content: \"▸\";float: left;margin-right: 0.25em;color: #696969;}#sk-container-id-1 label.sk-toggleable__label-arrow:hover:before {color: black;}#sk-container-id-1 div.sk-estimator:hover label.sk-toggleable__label-arrow:before {color: black;}#sk-container-id-1 div.sk-toggleable__content {max-height: 0;max-width: 0;overflow: hidden;text-align: left;background-color: #f0f8ff;}#sk-container-id-1 div.sk-toggleable__content pre {margin: 0.2em;color: black;border-radius: 0.25em;background-color: #f0f8ff;}#sk-container-id-1 input.sk-toggleable__control:checked~div.sk-toggleable__content {max-height: 200px;max-width: 100%;overflow: auto;}#sk-container-id-1 input.sk-toggleable__control:checked~label.sk-toggleable__label-arrow:before {content: \"▾\";}#sk-container-id-1 div.sk-estimator input.sk-toggleable__control:checked~label.sk-toggleable__label {background-color: #d4ebff;}#sk-container-id-1 div.sk-label input.sk-toggleable__control:checked~label.sk-toggleable__label {background-color: #d4ebff;}#sk-container-id-1 input.sk-hidden--visually {border: 0;clip: rect(1px 1px 1px 1px);clip: rect(1px, 1px, 1px, 1px);height: 1px;margin: -1px;overflow: hidden;padding: 0;position: absolute;width: 1px;}#sk-container-id-1 div.sk-estimator {font-family: monospace;background-color: #f0f8ff;border: 1px dotted black;border-radius: 0.25em;box-sizing: border-box;margin-bottom: 0.5em;}#sk-container-id-1 div.sk-estimator:hover {background-color: #d4ebff;}#sk-container-id-1 div.sk-parallel-item::after {content: \"\";width: 100%;border-bottom: 1px solid gray;flex-grow: 1;}#sk-container-id-1 div.sk-label:hover label.sk-toggleable__label {background-color: #d4ebff;}#sk-container-id-1 div.sk-serial::before {content: \"\";position: absolute;border-left: 1px solid gray;box-sizing: border-box;top: 0;bottom: 0;left: 50%;z-index: 0;}#sk-container-id-1 div.sk-serial {display: flex;flex-direction: column;align-items: center;background-color: white;padding-right: 0.2em;padding-left: 0.2em;position: relative;}#sk-container-id-1 div.sk-item {position: relative;z-index: 1;}#sk-container-id-1 div.sk-parallel {display: flex;align-items: stretch;justify-content: center;background-color: white;position: relative;}#sk-container-id-1 div.sk-item::before, #sk-container-id-1 div.sk-parallel-item::before {content: \"\";position: absolute;border-left: 1px solid gray;box-sizing: border-box;top: 0;bottom: 0;left: 50%;z-index: -1;}#sk-container-id-1 div.sk-parallel-item {display: flex;flex-direction: column;z-index: 1;position: relative;background-color: white;}#sk-container-id-1 div.sk-parallel-item:first-child::after {align-self: flex-end;width: 50%;}#sk-container-id-1 div.sk-parallel-item:last-child::after {align-self: flex-start;width: 50%;}#sk-container-id-1 div.sk-parallel-item:only-child::after {width: 0;}#sk-container-id-1 div.sk-dashed-wrapped {border: 1px dashed gray;margin: 0 0.4em 0.5em 0.4em;box-sizing: border-box;padding-bottom: 0.4em;background-color: white;}#sk-container-id-1 div.sk-label label {font-family: monospace;font-weight: bold;display: inline-block;line-height: 1.2em;}#sk-container-id-1 div.sk-label-container {text-align: center;}#sk-container-id-1 div.sk-container {/* jupyter's `normalize.less` sets `[hidden] { display: none; }` but bootstrap.min.css set `[hidden] { display: none !important; }` so we also need the `!important` here to be able to override the default hidden behavior on the sphinx rendered scikit-learn.org. See: https://github.com/scikit-learn/scikit-learn/issues/21755 */display: inline-block !important;position: relative;}#sk-container-id-1 div.sk-text-repr-fallback {display: none;}</style><div id=\"sk-container-id-1\" class=\"sk-top-container\"><div class=\"sk-text-repr-fallback\"><pre>LabelEncoder()</pre><b>In a Jupyter environment, please rerun this cell to show the HTML representation or trust the notebook. <br />On GitHub, the HTML representation is unable to render, please try loading this page with nbviewer.org.</b></div><div class=\"sk-container\" hidden><div class=\"sk-item\"><div class=\"sk-estimator sk-toggleable\"><input class=\"sk-toggleable__control sk-hidden--visually\" id=\"sk-estimator-id-1\" type=\"checkbox\" checked><label for=\"sk-estimator-id-1\" class=\"sk-toggleable__label sk-toggleable__label-arrow\">LabelEncoder</label><div class=\"sk-toggleable__content\"><pre>LabelEncoder()</pre></div></div></div></div></div>"
      ],
      "text/plain": [
       "LabelEncoder()"
      ]
     },
     "execution_count": 5,
     "metadata": {},
     "output_type": "execute_result"
    }
   ],
   "source": [
    "from sklearn.preprocessing import LabelEncoder\n",
    "\n",
    "le = LabelEncoder()\n",
    "le.fit(df['sentiment'])"
   ]
  },
  {
   "cell_type": "code",
   "execution_count": 6,
   "metadata": {},
   "outputs": [
    {
     "data": {
      "text/plain": [
       "array(['negative', 'positive'], dtype=object)"
      ]
     },
     "execution_count": 6,
     "metadata": {},
     "output_type": "execute_result"
    }
   ],
   "source": [
    "le.classes_"
   ]
  },
  {
   "cell_type": "code",
   "execution_count": 7,
   "metadata": {},
   "outputs": [],
   "source": [
    "from sklearn.model_selection import train_test_split\n",
    "\n",
    "train,test = train_test_split(df,test_size =0.33,random_state=42)"
   ]
  },
  {
   "cell_type": "code",
   "execution_count": 8,
   "metadata": {},
   "outputs": [],
   "source": [
    "train_x, train_y = train['review'], train['sentiment']\n",
    "test_x, test_y = test['review'], test['sentiment']"
   ]
  },
  {
   "cell_type": "code",
   "execution_count": 9,
   "metadata": {},
   "outputs": [],
   "source": [
    "from sklearn.feature_extraction.text import TfidfVectorizer\n",
    "\n",
    "tfidf = TfidfVectorizer(stop_words='english')\n",
    "train_x_vector = tfidf.fit_transform(train_x)\n",
    "# also fit the test_x_vector\n",
    "test_x_vector = tfidf.transform(test_x)\n"
   ]
  },
  {
   "cell_type": "code",
   "execution_count": 10,
   "metadata": {},
   "outputs": [],
   "source": [
    "transformed_train_y = le.transform(train_y)\n",
    "transformed_test_y = le.transform(test_y)"
   ]
  },
  {
   "cell_type": "code",
   "execution_count": 11,
   "metadata": {},
   "outputs": [],
   "source": [
    "from sklearn.model_selection import GridSearchCV\n",
    "from sklearn.base import BaseEstimator\n",
    "from sklearn.pipeline import Pipeline\n",
    "\n",
    "from sklearn.svm import SVC\n",
    "from sklearn.tree import DecisionTreeClassifier\n",
    "from sklearn.linear_model import LogisticRegression"
   ]
  },
  {
   "cell_type": "code",
   "execution_count": 12,
   "metadata": {},
   "outputs": [],
   "source": [
    "class DummyEstimator(BaseEstimator):\n",
    "    def fit(self): pass\n",
    "    def score(self): pass\n",
    "\n",
    "# Create a pipeline\n",
    "pipe = Pipeline([('clf', DummyEstimator())]) # Placeholder Estimator"
   ]
  },
  {
   "cell_type": "code",
   "execution_count": 13,
   "metadata": {},
   "outputs": [],
   "source": [
    "# # Candidate learning algorithms and their hyperparameters\n",
    "search_space = [\n",
    "# {'clf': [DecisionTreeClassifier()],  # Actual Estimator\n",
    "#                  'clf__criterion': ['gini', 'entropy'],\n",
    "#                  'clf__max_depth' : [None,5,10],\n",
    "#                  'clf__max_leaf_nodes' : [None,2,4,8],},\n",
    "                \n",
    "                {'clf': [SVC()],\n",
    "                    'clf__C': [4],\n",
    "                    'clf__break_ties': [False],\n",
    "                    'clf__cache_size': [200],\n",
    "                    'clf__class_weight': [None],\n",
    "                    'clf__coef0': [0.0],\n",
    "                    'clf__decision_function_shape': ['ovr'],\n",
    "                    'clf__degree': [3],\n",
    "                    'clf__gamma': ['scale'],\n",
    "                    'clf__kernel': ['rbf'],\n",
    "                    'clf__max_iter': [-1],\n",
    "                    'clf__probability': [False],\n",
    "                    'clf__random_state': [None],\n",
    "                    'clf__shrinking': [True],\n",
    "                    'clf__tol': [0.001],\n",
    "                    'clf__verbose': [False]}\n",
    "               ]"
   ]
  },
  {
   "cell_type": "code",
   "execution_count": 14,
   "metadata": {},
   "outputs": [],
   "source": [
    "# Create grid search \n",
    "gs = GridSearchCV(pipe, search_space)"
   ]
  },
  {
   "cell_type": "code",
   "execution_count": 15,
   "metadata": {},
   "outputs": [
    {
     "data": {
      "text/html": [
       "<style>#sk-container-id-2 {color: black;background-color: white;}#sk-container-id-2 pre{padding: 0;}#sk-container-id-2 div.sk-toggleable {background-color: white;}#sk-container-id-2 label.sk-toggleable__label {cursor: pointer;display: block;width: 100%;margin-bottom: 0;padding: 0.3em;box-sizing: border-box;text-align: center;}#sk-container-id-2 label.sk-toggleable__label-arrow:before {content: \"▸\";float: left;margin-right: 0.25em;color: #696969;}#sk-container-id-2 label.sk-toggleable__label-arrow:hover:before {color: black;}#sk-container-id-2 div.sk-estimator:hover label.sk-toggleable__label-arrow:before {color: black;}#sk-container-id-2 div.sk-toggleable__content {max-height: 0;max-width: 0;overflow: hidden;text-align: left;background-color: #f0f8ff;}#sk-container-id-2 div.sk-toggleable__content pre {margin: 0.2em;color: black;border-radius: 0.25em;background-color: #f0f8ff;}#sk-container-id-2 input.sk-toggleable__control:checked~div.sk-toggleable__content {max-height: 200px;max-width: 100%;overflow: auto;}#sk-container-id-2 input.sk-toggleable__control:checked~label.sk-toggleable__label-arrow:before {content: \"▾\";}#sk-container-id-2 div.sk-estimator input.sk-toggleable__control:checked~label.sk-toggleable__label {background-color: #d4ebff;}#sk-container-id-2 div.sk-label input.sk-toggleable__control:checked~label.sk-toggleable__label {background-color: #d4ebff;}#sk-container-id-2 input.sk-hidden--visually {border: 0;clip: rect(1px 1px 1px 1px);clip: rect(1px, 1px, 1px, 1px);height: 1px;margin: -1px;overflow: hidden;padding: 0;position: absolute;width: 1px;}#sk-container-id-2 div.sk-estimator {font-family: monospace;background-color: #f0f8ff;border: 1px dotted black;border-radius: 0.25em;box-sizing: border-box;margin-bottom: 0.5em;}#sk-container-id-2 div.sk-estimator:hover {background-color: #d4ebff;}#sk-container-id-2 div.sk-parallel-item::after {content: \"\";width: 100%;border-bottom: 1px solid gray;flex-grow: 1;}#sk-container-id-2 div.sk-label:hover label.sk-toggleable__label {background-color: #d4ebff;}#sk-container-id-2 div.sk-serial::before {content: \"\";position: absolute;border-left: 1px solid gray;box-sizing: border-box;top: 0;bottom: 0;left: 50%;z-index: 0;}#sk-container-id-2 div.sk-serial {display: flex;flex-direction: column;align-items: center;background-color: white;padding-right: 0.2em;padding-left: 0.2em;position: relative;}#sk-container-id-2 div.sk-item {position: relative;z-index: 1;}#sk-container-id-2 div.sk-parallel {display: flex;align-items: stretch;justify-content: center;background-color: white;position: relative;}#sk-container-id-2 div.sk-item::before, #sk-container-id-2 div.sk-parallel-item::before {content: \"\";position: absolute;border-left: 1px solid gray;box-sizing: border-box;top: 0;bottom: 0;left: 50%;z-index: -1;}#sk-container-id-2 div.sk-parallel-item {display: flex;flex-direction: column;z-index: 1;position: relative;background-color: white;}#sk-container-id-2 div.sk-parallel-item:first-child::after {align-self: flex-end;width: 50%;}#sk-container-id-2 div.sk-parallel-item:last-child::after {align-self: flex-start;width: 50%;}#sk-container-id-2 div.sk-parallel-item:only-child::after {width: 0;}#sk-container-id-2 div.sk-dashed-wrapped {border: 1px dashed gray;margin: 0 0.4em 0.5em 0.4em;box-sizing: border-box;padding-bottom: 0.4em;background-color: white;}#sk-container-id-2 div.sk-label label {font-family: monospace;font-weight: bold;display: inline-block;line-height: 1.2em;}#sk-container-id-2 div.sk-label-container {text-align: center;}#sk-container-id-2 div.sk-container {/* jupyter's `normalize.less` sets `[hidden] { display: none; }` but bootstrap.min.css set `[hidden] { display: none !important; }` so we also need the `!important` here to be able to override the default hidden behavior on the sphinx rendered scikit-learn.org. See: https://github.com/scikit-learn/scikit-learn/issues/21755 */display: inline-block !important;position: relative;}#sk-container-id-2 div.sk-text-repr-fallback {display: none;}</style><div id=\"sk-container-id-2\" class=\"sk-top-container\"><div class=\"sk-text-repr-fallback\"><pre>GridSearchCV(estimator=Pipeline(steps=[(&#x27;clf&#x27;, DummyEstimator())]),\n",
       "             param_grid=[{&#x27;clf&#x27;: [SVC(C=4)], &#x27;clf__C&#x27;: [4],\n",
       "                          &#x27;clf__break_ties&#x27;: [False], &#x27;clf__cache_size&#x27;: [200],\n",
       "                          &#x27;clf__class_weight&#x27;: [None], &#x27;clf__coef0&#x27;: [0.0],\n",
       "                          &#x27;clf__decision_function_shape&#x27;: [&#x27;ovr&#x27;],\n",
       "                          &#x27;clf__degree&#x27;: [3], &#x27;clf__gamma&#x27;: [&#x27;scale&#x27;],\n",
       "                          &#x27;clf__kernel&#x27;: [&#x27;rbf&#x27;], &#x27;clf__max_iter&#x27;: [-1],\n",
       "                          &#x27;clf__probability&#x27;: [False],\n",
       "                          &#x27;clf__random_state&#x27;: [None], &#x27;clf__shrinking&#x27;: [True],\n",
       "                          &#x27;clf__tol&#x27;: [0.001], &#x27;clf__verbose&#x27;: [False]}])</pre><b>In a Jupyter environment, please rerun this cell to show the HTML representation or trust the notebook. <br />On GitHub, the HTML representation is unable to render, please try loading this page with nbviewer.org.</b></div><div class=\"sk-container\" hidden><div class=\"sk-item sk-dashed-wrapped\"><div class=\"sk-label-container\"><div class=\"sk-label sk-toggleable\"><input class=\"sk-toggleable__control sk-hidden--visually\" id=\"sk-estimator-id-2\" type=\"checkbox\" ><label for=\"sk-estimator-id-2\" class=\"sk-toggleable__label sk-toggleable__label-arrow\">GridSearchCV</label><div class=\"sk-toggleable__content\"><pre>GridSearchCV(estimator=Pipeline(steps=[(&#x27;clf&#x27;, DummyEstimator())]),\n",
       "             param_grid=[{&#x27;clf&#x27;: [SVC(C=4)], &#x27;clf__C&#x27;: [4],\n",
       "                          &#x27;clf__break_ties&#x27;: [False], &#x27;clf__cache_size&#x27;: [200],\n",
       "                          &#x27;clf__class_weight&#x27;: [None], &#x27;clf__coef0&#x27;: [0.0],\n",
       "                          &#x27;clf__decision_function_shape&#x27;: [&#x27;ovr&#x27;],\n",
       "                          &#x27;clf__degree&#x27;: [3], &#x27;clf__gamma&#x27;: [&#x27;scale&#x27;],\n",
       "                          &#x27;clf__kernel&#x27;: [&#x27;rbf&#x27;], &#x27;clf__max_iter&#x27;: [-1],\n",
       "                          &#x27;clf__probability&#x27;: [False],\n",
       "                          &#x27;clf__random_state&#x27;: [None], &#x27;clf__shrinking&#x27;: [True],\n",
       "                          &#x27;clf__tol&#x27;: [0.001], &#x27;clf__verbose&#x27;: [False]}])</pre></div></div></div><div class=\"sk-parallel\"><div class=\"sk-parallel-item\"><div class=\"sk-item\"><div class=\"sk-label-container\"><div class=\"sk-label sk-toggleable\"><input class=\"sk-toggleable__control sk-hidden--visually\" id=\"sk-estimator-id-3\" type=\"checkbox\" ><label for=\"sk-estimator-id-3\" class=\"sk-toggleable__label sk-toggleable__label-arrow\">estimator: Pipeline</label><div class=\"sk-toggleable__content\"><pre>Pipeline(steps=[(&#x27;clf&#x27;, DummyEstimator())])</pre></div></div></div><div class=\"sk-serial\"><div class=\"sk-item\"><div class=\"sk-serial\"><div class=\"sk-item\"><div class=\"sk-estimator sk-toggleable\"><input class=\"sk-toggleable__control sk-hidden--visually\" id=\"sk-estimator-id-4\" type=\"checkbox\" ><label for=\"sk-estimator-id-4\" class=\"sk-toggleable__label sk-toggleable__label-arrow\">DummyEstimator</label><div class=\"sk-toggleable__content\"><pre>DummyEstimator()</pre></div></div></div></div></div></div></div></div></div></div></div></div>"
      ],
      "text/plain": [
       "GridSearchCV(estimator=Pipeline(steps=[('clf', DummyEstimator())]),\n",
       "             param_grid=[{'clf': [SVC(C=4)], 'clf__C': [4],\n",
       "                          'clf__break_ties': [False], 'clf__cache_size': [200],\n",
       "                          'clf__class_weight': [None], 'clf__coef0': [0.0],\n",
       "                          'clf__decision_function_shape': ['ovr'],\n",
       "                          'clf__degree': [3], 'clf__gamma': ['scale'],\n",
       "                          'clf__kernel': ['rbf'], 'clf__max_iter': [-1],\n",
       "                          'clf__probability': [False],\n",
       "                          'clf__random_state': [None], 'clf__shrinking': [True],\n",
       "                          'clf__tol': [0.001], 'clf__verbose': [False]}])"
      ]
     },
     "execution_count": 15,
     "metadata": {},
     "output_type": "execute_result"
    }
   ],
   "source": [
    "gs.fit(train_x_vector, transformed_train_y)"
   ]
  },
  {
   "cell_type": "code",
   "execution_count": 16,
   "metadata": {},
   "outputs": [
    {
     "data": {
      "text/plain": [
       "{'clf': SVC(C=4),\n",
       " 'clf__C': 4,\n",
       " 'clf__break_ties': False,\n",
       " 'clf__cache_size': 200,\n",
       " 'clf__class_weight': None,\n",
       " 'clf__coef0': 0.0,\n",
       " 'clf__decision_function_shape': 'ovr',\n",
       " 'clf__degree': 3,\n",
       " 'clf__gamma': 'scale',\n",
       " 'clf__kernel': 'rbf',\n",
       " 'clf__max_iter': -1,\n",
       " 'clf__probability': False,\n",
       " 'clf__random_state': None,\n",
       " 'clf__shrinking': True,\n",
       " 'clf__tol': 0.001,\n",
       " 'clf__verbose': False}"
      ]
     },
     "execution_count": 16,
     "metadata": {},
     "output_type": "execute_result"
    }
   ],
   "source": [
    "gs.best_params_"
   ]
  },
  {
   "cell_type": "code",
   "execution_count": 17,
   "metadata": {},
   "outputs": [],
   "source": [
    "best_estimator = gs.best_estimator_"
   ]
  },
  {
   "cell_type": "code",
   "execution_count": 18,
   "metadata": {},
   "outputs": [],
   "source": [
    "from sklearn.metrics import f1_score, accuracy_score, log_loss, roc_auc_score"
   ]
  },
  {
   "cell_type": "code",
   "execution_count": 19,
   "metadata": {},
   "outputs": [],
   "source": [
    "y_pred = best_estimator.predict(test_x_vector)"
   ]
  },
  {
   "cell_type": "code",
   "execution_count": 20,
   "metadata": {},
   "outputs": [
    {
     "data": {
      "text/plain": [
       "0.875998816217816"
      ]
     },
     "execution_count": 20,
     "metadata": {},
     "output_type": "execute_result"
    }
   ],
   "source": [
    "f1_score(transformed_test_y,y_pred)\n"
   ]
  },
  {
   "cell_type": "code",
   "execution_count": 21,
   "metadata": {},
   "outputs": [
    {
     "data": {
      "text/plain": [
       "0.873030303030303"
      ]
     },
     "execution_count": 21,
     "metadata": {},
     "output_type": "execute_result"
    }
   ],
   "source": [
    "accuracy_score(transformed_test_y,y_pred)"
   ]
  },
  {
   "cell_type": "code",
   "execution_count": 22,
   "metadata": {},
   "outputs": [
    {
     "data": {
      "text/plain": [
       "4.5764517484969955"
      ]
     },
     "execution_count": 22,
     "metadata": {},
     "output_type": "execute_result"
    }
   ],
   "source": [
    "log_loss(transformed_test_y,y_pred)"
   ]
  },
  {
   "cell_type": "code",
   "execution_count": 23,
   "metadata": {},
   "outputs": [
    {
     "data": {
      "text/plain": [
       "0.8728754212415991"
      ]
     },
     "execution_count": 23,
     "metadata": {},
     "output_type": "execute_result"
    }
   ],
   "source": [
    "roc_auc_score(transformed_test_y,y_pred)"
   ]
  },
  {
   "cell_type": "code",
   "execution_count": 24,
   "metadata": {},
   "outputs": [
    {
     "data": {
      "text/plain": [
       "'positive'"
      ]
     },
     "execution_count": 24,
     "metadata": {},
     "output_type": "execute_result"
    }
   ],
   "source": [
    "le.inverse_transform(best_estimator.predict(tfidf.transform([\"Its such a beautiful day.\"])))[0]"
   ]
  },
  {
   "cell_type": "code",
   "execution_count": 25,
   "metadata": {},
   "outputs": [
    {
     "data": {
      "text/plain": [
       "['best_estimator']"
      ]
     },
     "execution_count": 25,
     "metadata": {},
     "output_type": "execute_result"
    }
   ],
   "source": [
    "from joblib import dump\n",
    "dump(best_estimator, 'best_estimator')"
   ]
  },
  {
   "cell_type": "code",
   "execution_count": 26,
   "metadata": {},
   "outputs": [],
   "source": [
    "from joblib import load\n",
    "classifier = load('best_estimator')"
   ]
  },
  {
   "cell_type": "code",
   "execution_count": 27,
   "metadata": {},
   "outputs": [
    {
     "data": {
      "text/plain": [
       "{'memory': None,\n",
       " 'steps': [('clf', SVC(C=4))],\n",
       " 'verbose': False,\n",
       " 'clf': SVC(C=4),\n",
       " 'clf__C': 4,\n",
       " 'clf__break_ties': False,\n",
       " 'clf__cache_size': 200,\n",
       " 'clf__class_weight': None,\n",
       " 'clf__coef0': 0.0,\n",
       " 'clf__decision_function_shape': 'ovr',\n",
       " 'clf__degree': 3,\n",
       " 'clf__gamma': 'scale',\n",
       " 'clf__kernel': 'rbf',\n",
       " 'clf__max_iter': -1,\n",
       " 'clf__probability': False,\n",
       " 'clf__random_state': None,\n",
       " 'clf__shrinking': True,\n",
       " 'clf__tol': 0.001,\n",
       " 'clf__verbose': False}"
      ]
     },
     "execution_count": 27,
     "metadata": {},
     "output_type": "execute_result"
    }
   ],
   "source": [
    "classifier.get_params()"
   ]
  },
  {
   "cell_type": "code",
   "execution_count": 28,
   "metadata": {},
   "outputs": [
    {
     "name": "stdout",
     "output_type": "stream",
     "text": [
      "Jawan\n",
      "Pathaan\n",
      "Dunki\n",
      "Animal\n",
      "Tiger 3\n",
      "Sam Bahadur\n",
      "Leo\n",
      "12th Fail\n",
      "Chhatriwali\n",
      "OMG 2\n",
      "Bheed\n",
      "Bad Boy\n",
      "Music School\n",
      "Tu Jhoothi Main Makkaar\n",
      "Bholaa\n",
      "Satyaprem Ki Katha\n",
      "Zara Hatke Zara Bachke\n",
      "Mission Raniganj: The Great Bharat Rescue\n",
      "Sirf Ek Bandaa Kaafi Hai\n",
      "Jogira Sara Ra Ra\n",
      "Gulmohar\n",
      "Gandhi Godse Ek Yudh\n",
      "Mrs. Chatterjee vs. Norway\n",
      "IB 71\n",
      "Rocky Aur Rani Kii Prem Kahaani\n",
      "Bloody Daddy\n",
      "Mission Majnu\n",
      "Ponniyin Selvan: Part Two\n",
      "Jailer\n",
      "Bawaal\n",
      "The Archies\n",
      "Salaar: Cease Fire - Part 1\n",
      "Yaariyan 2\n"
     ]
    }
   ],
   "source": [
    "import requests\n",
    "from bs4 import BeautifulSoup\n",
    "def fetch_all_movie_names():\n",
    "   \n",
    "    imdb_url = \"https://www.imdb.com/list/ls565461384/\"\n",
    "    response = requests.get(imdb_url)\n",
    "\n",
    "    if response.status_code == 200:\n",
    "        soup = BeautifulSoup(response.text, 'html.parser')\n",
    "\n",
    "        # Find all the movie titles and links\n",
    "        movies = soup.find_all('h3', class_='lister-item-header')\n",
    "\n",
    "        # Extract and print the titles and links\n",
    "        for movie in movies:\n",
    "            title = movie.a.text\n",
    "            link = \"https://www.imdb.com\" + movie.a['href'] + 'reviews/'\n",
    "            review_dict.update({\n",
    "                title:link\n",
    "            })\n",
    "\n",
    "        #movie_list.delete(0, tk.END)  # Clear the current movie list\n",
    "        for movie_name in review_dict.keys():\n",
    "            print(movie_name)\n",
    "\n",
    "\n",
    "\n",
    "fetch_all_movie_names()"
   ]
  },
  {
   "cell_type": "code",
   "execution_count": 32,
   "metadata": {},
   "outputs": [],
   "source": [
    "movie_name=input(\"Enter any movie\")\n"
   ]
  },
  {
   "cell_type": "code",
   "execution_count": 33,
   "metadata": {},
   "outputs": [
    {
     "name": "stdout",
     "output_type": "stream",
     "text": [
      "https://www.imdb.com/title/tt13751694/reviews/ https://www.imdb.com/title/tt13751694/reviews/_ajax/\n"
     ]
    }
   ],
   "source": [
    "url = review_dict[movie_name]\n",
    "link_url = review_dict[movie_name]+'_ajax/'\n",
    "print(url, link_url)"
   ]
  },
  {
   "cell_type": "code",
   "execution_count": 34,
   "metadata": {},
   "outputs": [
    {
     "data": {
      "text/html": [
       "<div>\n",
       "<style scoped>\n",
       "    .dataframe tbody tr th:only-of-type {\n",
       "        vertical-align: middle;\n",
       "    }\n",
       "\n",
       "    .dataframe tbody tr th {\n",
       "        vertical-align: top;\n",
       "    }\n",
       "\n",
       "    .dataframe thead th {\n",
       "        text-align: right;\n",
       "    }\n",
       "</style>\n",
       "<table border=\"1\" class=\"dataframe\">\n",
       "  <thead>\n",
       "    <tr style=\"text-align: right;\">\n",
       "      <th></th>\n",
       "      <th>review</th>\n",
       "      <th>date</th>\n",
       "    </tr>\n",
       "  </thead>\n",
       "  <tbody>\n",
       "    <tr>\n",
       "      <th>0</th>\n",
       "      <td>What an experience man, what a writing. Anyone...</td>\n",
       "      <td>2023-12-01</td>\n",
       "    </tr>\n",
       "    <tr>\n",
       "      <th>1</th>\n",
       "      <td>First few mins of the movie are good, but then...</td>\n",
       "      <td>2023-12-01</td>\n",
       "    </tr>\n",
       "    <tr>\n",
       "      <th>2</th>\n",
       "      <td>Amazing direction, capable of keeping veiwers ...</td>\n",
       "      <td>2023-12-01</td>\n",
       "    </tr>\n",
       "    <tr>\n",
       "      <th>3</th>\n",
       "      <td>The first half is fine, story is somewhat enga...</td>\n",
       "      <td>2023-12-01</td>\n",
       "    </tr>\n",
       "    <tr>\n",
       "      <th>4</th>\n",
       "      <td>Perhaps the best movie of 2023 coming from bol...</td>\n",
       "      <td>2023-12-01</td>\n",
       "    </tr>\n",
       "    <tr>\n",
       "      <th>...</th>\n",
       "      <td>...</td>\n",
       "      <td>...</td>\n",
       "    </tr>\n",
       "    <tr>\n",
       "      <th>568</th>\n",
       "      <td>I'm thrilled to share my admiration for Ranbir...</td>\n",
       "      <td>2023-12-09</td>\n",
       "    </tr>\n",
       "    <tr>\n",
       "      <th>569</th>\n",
       "      <td>I see lot of negative reviews for animal, and ...</td>\n",
       "      <td>2023-12-09</td>\n",
       "    </tr>\n",
       "    <tr>\n",
       "      <th>570</th>\n",
       "      <td>First and foremost, even if there is 1% chance...</td>\n",
       "      <td>2023-12-09</td>\n",
       "    </tr>\n",
       "    <tr>\n",
       "      <th>571</th>\n",
       "      <td>One who will watch this movie is going to have...</td>\n",
       "      <td>2023-12-09</td>\n",
       "    </tr>\n",
       "    <tr>\n",
       "      <th>572</th>\n",
       "      <td>The movie could have been shorter, and was at ...</td>\n",
       "      <td>2023-12-09</td>\n",
       "    </tr>\n",
       "  </tbody>\n",
       "</table>\n",
       "<p>573 rows × 2 columns</p>\n",
       "</div>"
      ],
      "text/plain": [
       "                                                review       date\n",
       "0    What an experience man, what a writing. Anyone... 2023-12-01\n",
       "1    First few mins of the movie are good, but then... 2023-12-01\n",
       "2    Amazing direction, capable of keeping veiwers ... 2023-12-01\n",
       "3    The first half is fine, story is somewhat enga... 2023-12-01\n",
       "4    Perhaps the best movie of 2023 coming from bol... 2023-12-01\n",
       "..                                                 ...        ...\n",
       "568  I'm thrilled to share my admiration for Ranbir... 2023-12-09\n",
       "569  I see lot of negative reviews for animal, and ... 2023-12-09\n",
       "570  First and foremost, even if there is 1% chance... 2023-12-09\n",
       "571  One who will watch this movie is going to have... 2023-12-09\n",
       "572  The movie could have been shorter, and was at ... 2023-12-09\n",
       "\n",
       "[573 rows x 2 columns]"
      ]
     },
     "execution_count": 34,
     "metadata": {},
     "output_type": "execute_result"
    }
   ],
   "source": [
    "reviews = []\n",
    "\n",
    "\n",
    "\n",
    "##start_url = 'https://www.imdb.com/title/tt13751694/reviews?ref_=tt_urv'\n",
    "#link = 'https://www.imdb.com/title/tt13751694/reviews/_ajax'\n",
    "\n",
    "start_url = review_dict[movie_name]\n",
    "link = review_dict[movie_name]+'/_ajax'\n",
    "params = {\n",
    "    'ref_': 'undefined',\n",
    "    'paginationKey': ''\n",
    "}\n",
    "\n",
    "with requests.Session() as s:\n",
    "    s.headers['User-Agent'] = 'Mozilla/5.0 (Windows NT 6.1) AppleWebKit/537.36 (KHTML, like Gecko) Chrome/88.0.4324.150 Safari/537.36'\n",
    "    res = s.get(start_url)\n",
    "\n",
    "    while True:\n",
    "        soup = BeautifulSoup(res.text,\"lxml\")\n",
    "        for item in soup.select(\".review-container\"):\n",
    "            reviewer_name = item.select_one(\"span.display-name-link > a\").get_text(strip=True)\n",
    "            review_content = item.select_one(\"div.text.show-more__control\").get_text(strip=True)\n",
    "            review_date = item.select_one(\"span.review-date\").get_text(strip=True)\n",
    "            \n",
    "            reviews.append({\n",
    "                \"review\":review_content,\n",
    "                \"date\":review_date\n",
    "            })\n",
    "#             print(f\"Reviewer: {reviewer_name}\")\n",
    "#             print(\"Review:\")\n",
    "#             print(review_content)\n",
    "#             print(\"=\"*40)  # Separating line\n",
    "\n",
    "        try:\n",
    "            pagination_key = soup.select_one(\".load-more-data[data-key]\").get(\"data-key\")\n",
    "        except AttributeError:\n",
    "            break\n",
    "        params['paginationKey'] = pagination_key\n",
    "        res = s.get(link,params=params)\n",
    "\n",
    "\n",
    "\n",
    "movie_review_df = pd.DataFrame(reviews)\n",
    "movie_review_df['date'] = pd.to_datetime(movie_review_df['date'])   \n",
    "movie_review_df.sort_values(by='date',inplace=True,ignore_index=True)\n",
    "movie_review_df"
   ]
  },
  {
   "cell_type": "code",
   "execution_count": null,
   "metadata": {},
   "outputs": [],
   "source": [
    "vectorize_reviews = tfidf.transform(movie_review_df['review'])\n",
    "prediction = classifier.predict(vectorize_reviews)\n",
    "movie_review_df['Prediction'] = le.inverse_transform(prediction)"
   ]
  },
  {
   "cell_type": "code",
   "execution_count": null,
   "metadata": {},
   "outputs": [
    {
     "data": {
      "text/html": [
       "<div>\n",
       "<style scoped>\n",
       "    .dataframe tbody tr th:only-of-type {\n",
       "        vertical-align: middle;\n",
       "    }\n",
       "\n",
       "    .dataframe tbody tr th {\n",
       "        vertical-align: top;\n",
       "    }\n",
       "\n",
       "    .dataframe thead th {\n",
       "        text-align: right;\n",
       "    }\n",
       "</style>\n",
       "<table border=\"1\" class=\"dataframe\">\n",
       "  <thead>\n",
       "    <tr style=\"text-align: right;\">\n",
       "      <th></th>\n",
       "      <th>review</th>\n",
       "      <th>date</th>\n",
       "      <th>Prediction</th>\n",
       "    </tr>\n",
       "  </thead>\n",
       "  <tbody>\n",
       "    <tr>\n",
       "      <th>0</th>\n",
       "      <td>The central plot of the movie follows a somewh...</td>\n",
       "      <td>2023-10-18</td>\n",
       "      <td>positive</td>\n",
       "    </tr>\n",
       "    <tr>\n",
       "      <th>1</th>\n",
       "      <td>Leo is an absolute masterpiece in Tamil cinema...</td>\n",
       "      <td>2023-10-18</td>\n",
       "      <td>positive</td>\n",
       "    </tr>\n",
       "    <tr>\n",
       "      <th>2</th>\n",
       "      <td>One of best Direction. Indian cinema next leve...</td>\n",
       "      <td>2023-10-18</td>\n",
       "      <td>positive</td>\n",
       "    </tr>\n",
       "    <tr>\n",
       "      <th>3</th>\n",
       "      <td>On the bright side, we get..One of Vijay's fin...</td>\n",
       "      <td>2023-10-19</td>\n",
       "      <td>positive</td>\n",
       "    </tr>\n",
       "    <tr>\n",
       "      <th>4</th>\n",
       "      <td>Leo= sura, kuruvi, beast\\nIt's over hyped movi...</td>\n",
       "      <td>2023-10-19</td>\n",
       "      <td>positive</td>\n",
       "    </tr>\n",
       "    <tr>\n",
       "      <th>...</th>\n",
       "      <td>...</td>\n",
       "      <td>...</td>\n",
       "      <td>...</td>\n",
       "    </tr>\n",
       "    <tr>\n",
       "      <th>371</th>\n",
       "      <td>Fantastic how the hero can exit a head on cras...</td>\n",
       "      <td>2023-12-03</td>\n",
       "      <td>negative</td>\n",
       "    </tr>\n",
       "    <tr>\n",
       "      <th>372</th>\n",
       "      <td>Overall the Film Is great and well directed bo...</td>\n",
       "      <td>2023-12-03</td>\n",
       "      <td>positive</td>\n",
       "    </tr>\n",
       "    <tr>\n",
       "      <th>373</th>\n",
       "      <td>The initial half of the film captivates viewer...</td>\n",
       "      <td>2023-12-04</td>\n",
       "      <td>positive</td>\n",
       "    </tr>\n",
       "    <tr>\n",
       "      <th>374</th>\n",
       "      <td>First Half - 10\\nSecond Half - 7\\nAction - 10\\...</td>\n",
       "      <td>2023-12-04</td>\n",
       "      <td>positive</td>\n",
       "    </tr>\n",
       "    <tr>\n",
       "      <th>375</th>\n",
       "      <td>Considering the hype of LCU and the level show...</td>\n",
       "      <td>2023-12-04</td>\n",
       "      <td>positive</td>\n",
       "    </tr>\n",
       "  </tbody>\n",
       "</table>\n",
       "<p>376 rows × 3 columns</p>\n",
       "</div>"
      ],
      "text/plain": [
       "                                                review       date Prediction\n",
       "0    The central plot of the movie follows a somewh... 2023-10-18   positive\n",
       "1    Leo is an absolute masterpiece in Tamil cinema... 2023-10-18   positive\n",
       "2    One of best Direction. Indian cinema next leve... 2023-10-18   positive\n",
       "3    On the bright side, we get..One of Vijay's fin... 2023-10-19   positive\n",
       "4    Leo= sura, kuruvi, beast\\nIt's over hyped movi... 2023-10-19   positive\n",
       "..                                                 ...        ...        ...\n",
       "371  Fantastic how the hero can exit a head on cras... 2023-12-03   negative\n",
       "372  Overall the Film Is great and well directed bo... 2023-12-03   positive\n",
       "373  The initial half of the film captivates viewer... 2023-12-04   positive\n",
       "374  First Half - 10\\nSecond Half - 7\\nAction - 10\\... 2023-12-04   positive\n",
       "375  Considering the hype of LCU and the level show... 2023-12-04   positive\n",
       "\n",
       "[376 rows x 3 columns]"
      ]
     },
     "execution_count": 63,
     "metadata": {},
     "output_type": "execute_result"
    }
   ],
   "source": [
    "movie_review_df"
   ]
  },
  {
   "cell_type": "code",
   "execution_count": null,
   "metadata": {},
   "outputs": [],
   "source": [
    "sum_ = []\n",
    "cnt = 0\n",
    "for i in prediction:\n",
    "    f = lambda x: -1 if x == 0 else 1\n",
    "    cnt += f(i)\n",
    "    sum_.append(cnt)"
   ]
  },
  {
   "cell_type": "code",
   "execution_count": null,
   "metadata": {},
   "outputs": [],
   "source": [
    "movie_review_df['Popularity'] = sum_\n"
   ]
  },
  {
   "cell_type": "code",
   "execution_count": null,
   "metadata": {},
   "outputs": [
    {
     "data": {
      "text/html": [
       "<div>\n",
       "<style scoped>\n",
       "    .dataframe tbody tr th:only-of-type {\n",
       "        vertical-align: middle;\n",
       "    }\n",
       "\n",
       "    .dataframe tbody tr th {\n",
       "        vertical-align: top;\n",
       "    }\n",
       "\n",
       "    .dataframe thead th {\n",
       "        text-align: right;\n",
       "    }\n",
       "</style>\n",
       "<table border=\"1\" class=\"dataframe\">\n",
       "  <thead>\n",
       "    <tr style=\"text-align: right;\">\n",
       "      <th></th>\n",
       "      <th>review</th>\n",
       "      <th>date</th>\n",
       "      <th>Prediction</th>\n",
       "      <th>Popularity</th>\n",
       "    </tr>\n",
       "  </thead>\n",
       "  <tbody>\n",
       "    <tr>\n",
       "      <th>0</th>\n",
       "      <td>The central plot of the movie follows a somewh...</td>\n",
       "      <td>2023-10-18</td>\n",
       "      <td>positive</td>\n",
       "      <td>1</td>\n",
       "    </tr>\n",
       "    <tr>\n",
       "      <th>1</th>\n",
       "      <td>Leo is an absolute masterpiece in Tamil cinema...</td>\n",
       "      <td>2023-10-18</td>\n",
       "      <td>positive</td>\n",
       "      <td>2</td>\n",
       "    </tr>\n",
       "    <tr>\n",
       "      <th>2</th>\n",
       "      <td>One of best Direction. Indian cinema next leve...</td>\n",
       "      <td>2023-10-18</td>\n",
       "      <td>positive</td>\n",
       "      <td>3</td>\n",
       "    </tr>\n",
       "    <tr>\n",
       "      <th>3</th>\n",
       "      <td>On the bright side, we get..One of Vijay's fin...</td>\n",
       "      <td>2023-10-19</td>\n",
       "      <td>positive</td>\n",
       "      <td>4</td>\n",
       "    </tr>\n",
       "    <tr>\n",
       "      <th>4</th>\n",
       "      <td>Leo= sura, kuruvi, beast\\nIt's over hyped movi...</td>\n",
       "      <td>2023-10-19</td>\n",
       "      <td>positive</td>\n",
       "      <td>5</td>\n",
       "    </tr>\n",
       "    <tr>\n",
       "      <th>...</th>\n",
       "      <td>...</td>\n",
       "      <td>...</td>\n",
       "      <td>...</td>\n",
       "      <td>...</td>\n",
       "    </tr>\n",
       "    <tr>\n",
       "      <th>371</th>\n",
       "      <td>Fantastic how the hero can exit a head on cras...</td>\n",
       "      <td>2023-12-03</td>\n",
       "      <td>negative</td>\n",
       "      <td>194</td>\n",
       "    </tr>\n",
       "    <tr>\n",
       "      <th>372</th>\n",
       "      <td>Overall the Film Is great and well directed bo...</td>\n",
       "      <td>2023-12-03</td>\n",
       "      <td>positive</td>\n",
       "      <td>195</td>\n",
       "    </tr>\n",
       "    <tr>\n",
       "      <th>373</th>\n",
       "      <td>The initial half of the film captivates viewer...</td>\n",
       "      <td>2023-12-04</td>\n",
       "      <td>positive</td>\n",
       "      <td>196</td>\n",
       "    </tr>\n",
       "    <tr>\n",
       "      <th>374</th>\n",
       "      <td>First Half - 10\\nSecond Half - 7\\nAction - 10\\...</td>\n",
       "      <td>2023-12-04</td>\n",
       "      <td>positive</td>\n",
       "      <td>197</td>\n",
       "    </tr>\n",
       "    <tr>\n",
       "      <th>375</th>\n",
       "      <td>Considering the hype of LCU and the level show...</td>\n",
       "      <td>2023-12-04</td>\n",
       "      <td>positive</td>\n",
       "      <td>198</td>\n",
       "    </tr>\n",
       "  </tbody>\n",
       "</table>\n",
       "<p>376 rows × 4 columns</p>\n",
       "</div>"
      ],
      "text/plain": [
       "                                                review       date Prediction  \\\n",
       "0    The central plot of the movie follows a somewh... 2023-10-18   positive   \n",
       "1    Leo is an absolute masterpiece in Tamil cinema... 2023-10-18   positive   \n",
       "2    One of best Direction. Indian cinema next leve... 2023-10-18   positive   \n",
       "3    On the bright side, we get..One of Vijay's fin... 2023-10-19   positive   \n",
       "4    Leo= sura, kuruvi, beast\\nIt's over hyped movi... 2023-10-19   positive   \n",
       "..                                                 ...        ...        ...   \n",
       "371  Fantastic how the hero can exit a head on cras... 2023-12-03   negative   \n",
       "372  Overall the Film Is great and well directed bo... 2023-12-03   positive   \n",
       "373  The initial half of the film captivates viewer... 2023-12-04   positive   \n",
       "374  First Half - 10\\nSecond Half - 7\\nAction - 10\\... 2023-12-04   positive   \n",
       "375  Considering the hype of LCU and the level show... 2023-12-04   positive   \n",
       "\n",
       "     Popularity  \n",
       "0             1  \n",
       "1             2  \n",
       "2             3  \n",
       "3             4  \n",
       "4             5  \n",
       "..          ...  \n",
       "371         194  \n",
       "372         195  \n",
       "373         196  \n",
       "374         197  \n",
       "375         198  \n",
       "\n",
       "[376 rows x 4 columns]"
      ]
     },
     "execution_count": 66,
     "metadata": {},
     "output_type": "execute_result"
    }
   ],
   "source": [
    "movie_review_df"
   ]
  },
  {
   "cell_type": "code",
   "execution_count": null,
   "metadata": {},
   "outputs": [
    {
     "data": {
      "image/png": "[encoded data removed]",
      "text/plain": [
       "<Figure size 1000x600 with 1 Axes>"
      ]
     },
     "metadata": {},
     "output_type": "display_data"
    }
   ],
   "source": [
    "import matplotlib.dates as mdates\n",
    "\n",
    "fig, ax = plt.subplots(figsize=(10, 6))  # set the size of the figure\n",
    "sns.lineplot(x='date', y='Popularity', data=movie_review_df)\n",
    "\n",
    "# Formatting the x-axis to show dates in the format \"YYYY-MM-DD\"\n",
    "ax.xaxis.set_major_locator(mdates.DayLocator(interval=7))\n",
    "ax.xaxis.set_major_formatter(mdates.DateFormatter('%d/%m'))\n",
    "plt.xticks(rotation=45)  # rotate x-axis labels for better readability\n",
    "\n",
    "# Display the grid\n",
    "ax.grid(True)\n",
    "\n",
    "plt.title(\"Popularity of \"+ movie_name +\" Movie\")\n",
    "plt.show()"
   ]
  },
  {
   "cell_type": "code",
   "execution_count": null,
   "metadata": {},
   "outputs": [
    {
     "data": {
      "image/png": "[encoded data removed]",
      "text/plain": [
       "<Figure size 800x600 with 1 Axes>"
      ]
     },
     "metadata": {},
     "output_type": "display_data"
    }
   ],
   "source": [
    "# Calculate the frequency of each unique value in the \"Prediction\" column\n",
    "prediction_counts = movie_review_df['Prediction'].value_counts()\n",
    "\n",
    "# Plotting the pie chart\n",
    "plt.figure(figsize=(8, 6))\n",
    "plt.pie(prediction_counts, labels=prediction_counts.index, autopct='%1.1f%%', startangle=140, wedgeprops=dict(width=0.3))\n",
    "plt.title('Prediction Distribution  '+movie_name)\n",
    "plt.show()"
   ]
  },
  {
   "cell_type": "code",
   "execution_count": null,
   "metadata": {},
   "outputs": [
    {
     "data": {
      "image/png": "[encoded data removed]",
      "text/plain": [
       "<Figure size 640x480 with 1 Axes>"
      ]
     },
     "metadata": {},
     "output_type": "display_data"
    }
   ],
   "source": [
    "import requests\n",
    "from bs4 import BeautifulSoup\n",
    "import matplotlib.pyplot as plt\n",
    "\n",
    "def fetch_movie_genres(url):\n",
    "    headers = {\n",
    "        'User-Agent': 'Mozilla/5.0 (Windows NT 10.0; Win64; x64) AppleWebKit/537.36 (KHTML, like Gecko) Chrome/91.0.4472.124 Safari/537.36'\n",
    "    }\n",
    "\n",
    "    response = requests.get(url, headers=headers)\n",
    "\n",
    "    if response.status_code == 200:\n",
    "        soup = BeautifulSoup(response.text, \"html.parser\")\n",
    "        movie_elements = soup.find_all(\"div\", class_=\"lister-item-content\")\n",
    "\n",
    "        genres = []\n",
    "\n",
    "        for movie_element in movie_elements:\n",
    "            genre_elements = movie_element.find_all(\"span\", class_=\"genre\")\n",
    "            for genre_element in genre_elements:\n",
    "                genre = genre_element.get_text(strip=True)\n",
    "                genres.extend(genre.split(','))\n",
    "\n",
    "        return genres\n",
    "\n",
    "    else:\n",
    "        print(\"Failed to retrieve the webpage. Status code:\", response.status_code)\n",
    "        return []\n",
    "\n",
    "def plot_genre_bar_graph(genres):\n",
    "    genre_counts = {genre: genres.count(genre) for genre in set(genres)}\n",
    "\n",
    "    plt.bar(genre_counts.keys(), genre_counts.values())\n",
    "    plt.xlabel('Genres')\n",
    "    plt.ylabel('Number of Movies')\n",
    "    plt.title('Number of Movies by Genre')\n",
    "    plt.xticks(rotation=45, ha='right')\n",
    "    plt.show()\n",
    "\n",
    "# IMDb search URL for Hindi language movies released in 2023\n",
    "imdb_url = \"https://www.imdb.com/search/title/?languages=hi&year=2023,2023\"\n",
    "\n",
    "# Fetch movie genres from the IMDb search URL\n",
    "movie_genres = fetch_movie_genres(imdb_url)\n",
    "\n",
    "# Plot the bar graph\n",
    "plot_genre_bar_graph(movie_genres)\n",
    "\n",
    "    "
   ]
  },
  {
   "cell_type": "code",
   "execution_count": null,
   "metadata": {},
   "outputs": [],
   "source": []
  },
  {
   "cell_type": "code",
   "execution_count": null,
   "metadata": {},
   "outputs": [],
   "source": [
    "\n"
   ]
  },
  {
   "cell_type": "code",
   "execution_count": null,
   "metadata": {},
   "outputs": [],
   "source": []
  }
 ],
 "metadata": {
  "kernelspec": {
   "display_name": "base",
   "language": "python",
   "name": "python3"
  },
  "language_info": {
   "codemirror_mode": {
    "name": "ipython",
    "version": 3
   },
   "file_extension": ".py",
   "mimetype": "text/x-python",
   "name": "python",
   "nbconvert_exporter": "python",
   "pygments_lexer": "ipython3",
   "version": "3.10.9"
  }
 },
 "nbformat": 4,
 "nbformat_minor": 2
}
